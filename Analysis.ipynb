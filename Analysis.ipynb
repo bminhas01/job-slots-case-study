{
 "cells": [
  {
   "cell_type": "code",
   "execution_count": 3,
   "metadata": {},
   "outputs": [],
   "source": [
    "# Dependencies and Setup\n",
    "import pandas as pd\n",
    "\n",
    "# Create path to data files\n",
    "data_path = 'data/LTS CHURN CASE STUDY_Updated.xlsx'"
   ]
  },
  {
   "cell_type": "code",
   "execution_count": 8,
   "metadata": {},
   "outputs": [
    {
     "data": {
      "text/html": [
       "<div>\n",
       "<style scoped>\n",
       "    .dataframe tbody tr th:only-of-type {\n",
       "        vertical-align: middle;\n",
       "    }\n",
       "\n",
       "    .dataframe tbody tr th {\n",
       "        vertical-align: top;\n",
       "    }\n",
       "\n",
       "    .dataframe thead th {\n",
       "        text-align: right;\n",
       "    }\n",
       "</style>\n",
       "<table border=\"1\" class=\"dataframe\">\n",
       "  <thead>\n",
       "    <tr style=\"text-align: right;\">\n",
       "      <th></th>\n",
       "      <th>COMPANY</th>\n",
       "      <th>DATE</th>\n",
       "      <th>JOB_ID</th>\n",
       "      <th>JOB_FUNCTION</th>\n",
       "      <th>JOB_REGION</th>\n",
       "      <th>JOB_IMPRESSIONS</th>\n",
       "      <th>JOB_VIEWS</th>\n",
       "      <th>JOB_APPLICATIONS</th>\n",
       "      <th>Unnamed: 8</th>\n",
       "      <th>Unnamed: 9</th>\n",
       "      <th>Unnamed: 10</th>\n",
       "      <th>Unnamed: 11</th>\n",
       "      <th>Unnamed: 12</th>\n",
       "      <th>Unnamed: 13</th>\n",
       "      <th>Unnamed: 14</th>\n",
       "      <th>Unnamed: 15</th>\n",
       "      <th>Unnamed: 16</th>\n",
       "      <th>Unnamed: 17</th>\n",
       "      <th>Unnamed: 18</th>\n",
       "    </tr>\n",
       "  </thead>\n",
       "  <tbody>\n",
       "    <tr>\n",
       "      <th>0</th>\n",
       "      <td>Company_ABC</td>\n",
       "      <td>2019-01-01</td>\n",
       "      <td>4022.0</td>\n",
       "      <td>Marketing</td>\n",
       "      <td>Asia Pacific</td>\n",
       "      <td>240.0</td>\n",
       "      <td>9.0</td>\n",
       "      <td>1.0</td>\n",
       "      <td>NaN</td>\n",
       "      <td>NaN</td>\n",
       "      <td>NaN</td>\n",
       "      <td>NaN</td>\n",
       "      <td>NaN</td>\n",
       "      <td>NaN</td>\n",
       "      <td>NaN</td>\n",
       "      <td>NaN</td>\n",
       "      <td>0.0</td>\n",
       "      <td>0.0</td>\n",
       "      <td>0.0</td>\n",
       "    </tr>\n",
       "    <tr>\n",
       "      <th>1</th>\n",
       "      <td>Company_ABC</td>\n",
       "      <td>2019-01-01</td>\n",
       "      <td>6211.0</td>\n",
       "      <td>Human Resources</td>\n",
       "      <td>Latin America</td>\n",
       "      <td>203.0</td>\n",
       "      <td>9.0</td>\n",
       "      <td>1.0</td>\n",
       "      <td>NaN</td>\n",
       "      <td>NaN</td>\n",
       "      <td>NaN</td>\n",
       "      <td>NaN</td>\n",
       "      <td>NaN</td>\n",
       "      <td>NaN</td>\n",
       "      <td>NaN</td>\n",
       "      <td>NaN</td>\n",
       "      <td>0.0</td>\n",
       "      <td>0.0</td>\n",
       "      <td>0.0</td>\n",
       "    </tr>\n",
       "    <tr>\n",
       "      <th>2</th>\n",
       "      <td>Company_ABC</td>\n",
       "      <td>2019-01-01</td>\n",
       "      <td>4538.0</td>\n",
       "      <td>Engineering</td>\n",
       "      <td>Europe</td>\n",
       "      <td>119.0</td>\n",
       "      <td>3.0</td>\n",
       "      <td>3.0</td>\n",
       "      <td>NaN</td>\n",
       "      <td>NaN</td>\n",
       "      <td>NaN</td>\n",
       "      <td>NaN</td>\n",
       "      <td>NaN</td>\n",
       "      <td>NaN</td>\n",
       "      <td>NaN</td>\n",
       "      <td>NaN</td>\n",
       "      <td>0.0</td>\n",
       "      <td>0.0</td>\n",
       "      <td>0.0</td>\n",
       "    </tr>\n",
       "    <tr>\n",
       "      <th>3</th>\n",
       "      <td>Company_ABC</td>\n",
       "      <td>2019-01-02</td>\n",
       "      <td>2583.0</td>\n",
       "      <td>Support</td>\n",
       "      <td>Asia Pacific</td>\n",
       "      <td>687.0</td>\n",
       "      <td>1.0</td>\n",
       "      <td>3.0</td>\n",
       "      <td>NaN</td>\n",
       "      <td>NaN</td>\n",
       "      <td>NaN</td>\n",
       "      <td>NaN</td>\n",
       "      <td>NaN</td>\n",
       "      <td>NaN</td>\n",
       "      <td>NaN</td>\n",
       "      <td>NaN</td>\n",
       "      <td>0.0</td>\n",
       "      <td>0.0</td>\n",
       "      <td>0.0</td>\n",
       "    </tr>\n",
       "    <tr>\n",
       "      <th>4</th>\n",
       "      <td>Company_ABC</td>\n",
       "      <td>2019-01-02</td>\n",
       "      <td>3266.0</td>\n",
       "      <td>Human Resources</td>\n",
       "      <td>North America</td>\n",
       "      <td>314.0</td>\n",
       "      <td>16.0</td>\n",
       "      <td>8.0</td>\n",
       "      <td>NaN</td>\n",
       "      <td>NaN</td>\n",
       "      <td>NaN</td>\n",
       "      <td>NaN</td>\n",
       "      <td>NaN</td>\n",
       "      <td>NaN</td>\n",
       "      <td>NaN</td>\n",
       "      <td>NaN</td>\n",
       "      <td>0.0</td>\n",
       "      <td>0.0</td>\n",
       "      <td>0.0</td>\n",
       "    </tr>\n",
       "  </tbody>\n",
       "</table>\n",
       "</div>"
      ],
      "text/plain": [
       "       COMPANY       DATE  JOB_ID     JOB_FUNCTION     JOB_REGION  \\\n",
       "0  Company_ABC 2019-01-01  4022.0        Marketing   Asia Pacific   \n",
       "1  Company_ABC 2019-01-01  6211.0  Human Resources  Latin America   \n",
       "2  Company_ABC 2019-01-01  4538.0      Engineering         Europe   \n",
       "3  Company_ABC 2019-01-02  2583.0          Support   Asia Pacific   \n",
       "4  Company_ABC 2019-01-02  3266.0  Human Resources  North America   \n",
       "\n",
       "   JOB_IMPRESSIONS  JOB_VIEWS  JOB_APPLICATIONS  Unnamed: 8  Unnamed: 9  \\\n",
       "0            240.0        9.0               1.0         NaN         NaN   \n",
       "1            203.0        9.0               1.0         NaN         NaN   \n",
       "2            119.0        3.0               3.0         NaN         NaN   \n",
       "3            687.0        1.0               3.0         NaN         NaN   \n",
       "4            314.0       16.0               8.0         NaN         NaN   \n",
       "\n",
       "   Unnamed: 10  Unnamed: 11  Unnamed: 12  Unnamed: 13  Unnamed: 14  \\\n",
       "0          NaN          NaN          NaN          NaN          NaN   \n",
       "1          NaN          NaN          NaN          NaN          NaN   \n",
       "2          NaN          NaN          NaN          NaN          NaN   \n",
       "3          NaN          NaN          NaN          NaN          NaN   \n",
       "4          NaN          NaN          NaN          NaN          NaN   \n",
       "\n",
       "   Unnamed: 15  Unnamed: 16  Unnamed: 17  Unnamed: 18  \n",
       "0          NaN          0.0          0.0          0.0  \n",
       "1          NaN          0.0          0.0          0.0  \n",
       "2          NaN          0.0          0.0          0.0  \n",
       "3          NaN          0.0          0.0          0.0  \n",
       "4          NaN          0.0          0.0          0.0  "
      ]
     },
     "execution_count": 8,
     "metadata": {},
     "output_type": "execute_result"
    }
   ],
   "source": [
    "# Read the Job Slots dataset using the openpyxl library\n",
    "data_df = pd.read_excel(data_path, engine = 'openpyxl')\n",
    "data_df.head()"
   ]
  },
  {
   "cell_type": "code",
   "execution_count": 7,
   "metadata": {},
   "outputs": [
    {
     "data": {
      "text/plain": [
       "(36484, 19)"
      ]
     },
     "execution_count": 7,
     "metadata": {},
     "output_type": "execute_result"
    }
   ],
   "source": [
    "# Get the dimensions, number of rows and columns, of the DataFrame\n",
    "data_df.shape"
   ]
  },
  {
   "cell_type": "code",
   "execution_count": 6,
   "metadata": {},
   "outputs": [
    {
     "data": {
      "text/plain": [
       "COMPANY             22979\n",
       "DATE                22979\n",
       "JOB_ID              22979\n",
       "JOB_FUNCTION        22979\n",
       "JOB_REGION          22979\n",
       "JOB_IMPRESSIONS     22979\n",
       "JOB_VIEWS           22979\n",
       "JOB_APPLICATIONS    22979\n",
       "Unnamed: 8              0\n",
       "Unnamed: 9              0\n",
       "Unnamed: 10             0\n",
       "Unnamed: 11             0\n",
       "Unnamed: 12             0\n",
       "Unnamed: 13             0\n",
       "Unnamed: 14             0\n",
       "Unnamed: 15             0\n",
       "Unnamed: 16          1506\n",
       "Unnamed: 17          1506\n",
       "Unnamed: 18          1506\n",
       "dtype: int64"
      ]
     },
     "execution_count": 6,
     "metadata": {},
     "output_type": "execute_result"
    }
   ],
   "source": [
    "# Count non-NA cells in each column\n",
    "data_df.count()"
   ]
  },
  {
   "cell_type": "code",
   "execution_count": 9,
   "metadata": {},
   "outputs": [],
   "source": [
    "# Remove empty rows\n",
    "data_v2_df = data_df[data_df['COMPANY'].notna()]\n",
    "\n",
    "# Remove empty columns\n",
    "dataset_df = data_v2_df.drop(data_v2_df.filter(regex = 'Unnamed').columns, axis = 1)"
   ]
  },
  {
   "cell_type": "code",
   "execution_count": 12,
   "metadata": {},
   "outputs": [
    {
     "data": {
      "text/plain": [
       "COMPANY             22979\n",
       "DATE                22979\n",
       "JOB_ID              22979\n",
       "JOB_FUNCTION        22979\n",
       "JOB_REGION          22979\n",
       "JOB_IMPRESSIONS     22979\n",
       "JOB_VIEWS           22979\n",
       "JOB_APPLICATIONS    22979\n",
       "dtype: int64"
      ]
     },
     "execution_count": 12,
     "metadata": {},
     "output_type": "execute_result"
    }
   ],
   "source": [
    "# Count non-NA cells in each column\n",
    "dataset_df.count()"
   ]
  },
  {
   "cell_type": "code",
   "execution_count": null,
   "metadata": {},
   "outputs": [],
   "source": []
  }
 ],
 "metadata": {
  "kernelspec": {
   "display_name": "Python [conda env:PythonData] *",
   "language": "python",
   "name": "conda-env-PythonData-py"
  },
  "language_info": {
   "codemirror_mode": {
    "name": "ipython",
    "version": 3
   },
   "file_extension": ".py",
   "mimetype": "text/x-python",
   "name": "python",
   "nbconvert_exporter": "python",
   "pygments_lexer": "ipython3",
   "version": "3.6.10"
  }
 },
 "nbformat": 4,
 "nbformat_minor": 4
}
